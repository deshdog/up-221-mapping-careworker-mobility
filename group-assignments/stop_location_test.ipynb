{
 "cells": [
  {
   "cell_type": "code",
   "execution_count": 3,
   "id": "eef7e847-a179-4b0a-9418-f2ec7f50b4d0",
   "metadata": {},
   "outputs": [],
   "source": [
    "import pandas as pd\n",
    "import geopandas as gpd\n",
    "import fiona"
   ]
  },
  {
   "cell_type": "code",
   "execution_count": 4,
   "id": "e08b4cd1-ad71-4956-a333-40788ad7a5d5",
   "metadata": {},
   "outputs": [],
   "source": [
    "stops = gpd.read_file('StopServingLines1022 (2).zip')"
   ]
  },
  {
   "cell_type": "code",
   "execution_count": 5,
   "id": "dd8bf9a3-5435-40d8-8fa8-47af9e14a507",
   "metadata": {},
   "outputs": [
    {
     "name": "stdout",
     "output_type": "stream",
     "text": [
      "<class 'geopandas.geodataframe.GeoDataFrame'>\n",
      "RangeIndex: 12094 entries, 0 to 12093\n",
      "Data columns (total 19 columns):\n",
      " #   Column      Non-Null Count  Dtype   \n",
      "---  ------      --------------  -----   \n",
      " 0   STOPNUM     12094 non-null  int64   \n",
      " 1   STOPNAME    12094 non-null  object  \n",
      " 2   LAT         12094 non-null  float64 \n",
      " 3   LONG        12094 non-null  float64 \n",
      " 4   LINE_DIR1   12094 non-null  object  \n",
      " 5   LINE_DIR2   2243 non-null   object  \n",
      " 6   LINE_DIR3   491 non-null    object  \n",
      " 7   LINE_DIR4   178 non-null    object  \n",
      " 8   LINE_DIR5   76 non-null     object  \n",
      " 9   LINE_DIR6   51 non-null     object  \n",
      " 10  LINE_DIR7   32 non-null     object  \n",
      " 11  LINE_DIR8   21 non-null     object  \n",
      " 12  LINE_DIR9   12 non-null     object  \n",
      " 13  LINE_DIR10  12 non-null     object  \n",
      " 14  LINE_DIR11  6 non-null      object  \n",
      " 15  LINE_DIR12  6 non-null      object  \n",
      " 16  LINE_DIR13  3 non-null      object  \n",
      " 17  LINE_DIR14  2 non-null      object  \n",
      " 18  geometry    12094 non-null  geometry\n",
      "dtypes: float64(2), geometry(1), int64(1), object(15)\n",
      "memory usage: 1.8+ MB\n"
     ]
    }
   ],
   "source": [
    "stops.info()"
   ]
  },
  {
   "cell_type": "code",
   "execution_count": 7,
   "id": "cb07876a-64ce-4d23-a0f3-d0a2b3e4c11a",
   "metadata": {},
   "outputs": [],
   "source": [
    "desired_columns = ['STOPNUM','STOPNAME', 'LAT', 'LONG', 'geometry']"
   ]
  },
  {
   "cell_type": "code",
   "execution_count": 8,
   "id": "f415b085-f3ab-42bf-82c3-d1113b003858",
   "metadata": {},
   "outputs": [],
   "source": [
    "stops_trimmed = stops[desired_columns].copy()"
   ]
  },
  {
   "cell_type": "code",
   "execution_count": 15,
   "id": "41f05df0-99c2-4873-ba63-d88ef85018dd",
   "metadata": {},
   "outputs": [],
   "source": [
    "stopspacoima = stops_trimmed.query('34.21774 < LONG < 34.29780')\n"
   ]
  },
  {
   "cell_type": "code",
   "execution_count": 16,
   "id": "60dd358a-631c-416b-a0fb-de2a5df5c21c",
   "metadata": {},
   "outputs": [
    {
     "name": "stdout",
     "output_type": "stream",
     "text": [
      "<class 'geopandas.geodataframe.GeoDataFrame'>\n",
      "Int64Index: 0 entries\n",
      "Data columns (total 5 columns):\n",
      " #   Column    Non-Null Count  Dtype   \n",
      "---  ------    --------------  -----   \n",
      " 0   STOPNUM   0 non-null      int64   \n",
      " 1   STOPNAME  0 non-null      object  \n",
      " 2   LAT       0 non-null      float64 \n",
      " 3   LONG      0 non-null      float64 \n",
      " 4   geometry  0 non-null      geometry\n",
      "dtypes: float64(2), geometry(1), int64(1), object(1)\n",
      "memory usage: 0.0+ bytes\n"
     ]
    }
   ],
   "source": [
    "stopspacoima.info()"
   ]
  },
  {
   "cell_type": "code",
   "execution_count": null,
   "id": "cc9e57d0-cfc2-4fa5-89a6-309d45fc6d49",
   "metadata": {},
   "outputs": [],
   "source": []
  }
 ],
 "metadata": {
  "kernelspec": {
   "display_name": "Python 3 (ipykernel)",
   "language": "python",
   "name": "python3"
  },
  "language_info": {
   "codemirror_mode": {
    "name": "ipython",
    "version": 3
   },
   "file_extension": ".py",
   "mimetype": "text/x-python",
   "name": "python",
   "nbconvert_exporter": "python",
   "pygments_lexer": "ipython3",
   "version": "3.10.8"
  }
 },
 "nbformat": 4,
 "nbformat_minor": 5
}
