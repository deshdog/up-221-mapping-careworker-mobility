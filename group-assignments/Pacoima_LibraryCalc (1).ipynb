{
 "cells": [
  {
   "cell_type": "code",
   "execution_count": 1,
   "id": "d82fdaa7-2e01-4cb2-8b45-3aebf5d12bc5",
   "metadata": {},
   "outputs": [],
   "source": [
    "import pandas as pd\n",
    "import geopandas as gpd"
   ]
  },
  {
   "cell_type": "code",
   "execution_count": 4,
   "id": "6e446c48-c7d0-4b7c-80fe-d430d9be9814",
   "metadata": {},
   "outputs": [],
   "source": [
    "tracts = gpd.read_file('Census_Tracts_2020.geojson')"
   ]
  },
  {
   "cell_type": "code",
   "execution_count": null,
   "id": "1e7fc481-5056-4e42-b66f-154509734df6",
   "metadata": {},
   "outputs": [],
   "source": [
    "# Manually identify Pacoima's census tracts."
   ]
  },
  {
   "cell_type": "code",
   "execution_count": 5,
   "id": "771cfe33-9a81-4e4f-a3df-6dbc0ba13b15",
   "metadata": {},
   "outputs": [],
   "source": [
    "labels = [\n",
    "    '1041.05',\n",
    "    '1041.08',\n",
    "    '1042.01',\n",
    "    '1042.03',\n",
    "    '1042.04',\n",
    "    '1043.10',\n",
    "    '1043.21',\n",
    "    '1043.22',\n",
    "    '1044.01',\n",
    "    '1044.03',\n",
    "    '1044.04',\n",
    "    '1045.00',\n",
    "    '1046.10',\n",
    "    '1046.20',\n",
    "    '1047.01',\n",
    "    '1047.03',\n",
    "    '1047.04',\n",
    "    '1048.21',\n",
    "    '1048.22',\n",
    "    '1048.23',\n",
    "    '1048.24',\n",
    "    '1095.00',\n",
    "    '1211.02',\n",
    "    '1212.10']"
   ]
  },
  {
   "cell_type": "code",
   "execution_count": null,
   "id": "d761440c-69b7-4e76-8969-0b98ac42cf3e",
   "metadata": {},
   "outputs": [],
   "source": [
    "# Make a new list of census tracts comprised only of Pacoima census tracts."
   ]
  },
  {
   "cell_type": "code",
   "execution_count": 7,
   "id": "20235123-8f25-4728-9966-6c9b86bcfa86",
   "metadata": {},
   "outputs": [],
   "source": [
    "mask = tracts['LABEL'].isin(labels)\n",
    "pacoima_tracts = tracts[mask]"
   ]
  },
  {
   "cell_type": "code",
   "execution_count": null,
   "id": "7513e396-01fb-4f88-a812-2558096e2c6a",
   "metadata": {},
   "outputs": [],
   "source": [
    "# Create a new dataframe containing centroid points for all polygons (tracts) in Pacoima."
   ]
  },
  {
   "cell_type": "code",
   "execution_count": 8,
   "id": "7794fa8e-1b88-4a8b-b613-94d912188c9b",
   "metadata": {},
   "outputs": [
    {
     "name": "stderr",
     "output_type": "stream",
     "text": [
      "/tmp/ipykernel_163/3110583494.py:2: UserWarning: Geometry is in a geographic CRS. Results from 'centroid' are likely incorrect. Use 'GeoSeries.to_crs()' to re-project geometries to a projected CRS before this operation.\n",
      "\n",
      "  pacoima_centroids[\"lon\"] = pacoima_tracts.geometry.centroid.x\n",
      "/tmp/ipykernel_163/3110583494.py:3: UserWarning: Geometry is in a geographic CRS. Results from 'centroid' are likely incorrect. Use 'GeoSeries.to_crs()' to re-project geometries to a projected CRS before this operation.\n",
      "\n",
      "  pacoima_centroids[\"lat\"] = pacoima_tracts.geometry.centroid.y\n"
     ]
    }
   ],
   "source": [
    "pacoima_centroids = pd.DataFrame()\n",
    "pacoima_centroids[\"lon\"] = pacoima_tracts.geometry.centroid.x\n",
    "pacoima_centroids[\"lat\"] = pacoima_tracts.geometry.centroid.y\n",
    "#pacoima_centroids[\"lon\"] = pacoima_tracts[\"geometry\"].centroid.x\n",
    "#pacoima_centroids[\"lat\"] = pacoima_tracts[\"geometry\"].centroid.y"
   ]
  },
  {
   "cell_type": "code",
   "execution_count": null,
   "id": "857f3372-9676-466e-b584-ee6fcfe23177",
   "metadata": {},
   "outputs": [],
   "source": [
    "# Write a function to caluclate the haversine distance between to lat-lon points."
   ]
  },
  {
   "cell_type": "code",
   "execution_count": 9,
   "id": "55daa702-7de1-4ae3-b605-7a54cb9f8f55",
   "metadata": {},
   "outputs": [],
   "source": [
    "from math import radians, cos, sin, asin, sqrt\n",
    "\n",
    "def haversine(lon1, lat1, lon2, lat2):\n",
    "    lon1, lat1, lon2, lat2 = map(radians, [lon1, lat1, lon2, lat2])\n",
    "    dlon = lon2 - lon1\n",
    "    dlat = lat2 - lat1\n",
    "    a = sin(dlat/2)**2 + cos(lat1) * cos(lat2) * sin(dlon/2)**2\n",
    "    c = 2 * asin(sqrt(a))\n",
    "    r = 3956\n",
    "    return c * r"
   ]
  },
  {
   "cell_type": "code",
   "execution_count": 11,
   "id": "febd48a6-e95b-45c1-9207-aa4ba75c91e6",
   "metadata": {},
   "outputs": [],
   "source": [
    "#Lake View Terrace Branch Library\n",
    "lon1 = -118.43164621231774\n",
    "lat1 = 34.2620510677406\n",
    "\n",
    "# New list for distances\n",
    "haversine_distances = []\n",
    "\n",
    "for i, j in pacoima_centroids.iterrows():\n",
    "    coord = j \n",
    "    lon2 = coord['lon']\n",
    "    lat2 = coord['lat']\n",
    "    haversine_var = haversine(lon1, lat1, lon2, lat2)\n",
    "    haversine_distances.append(haversine_var)"
   ]
  },
  {
   "cell_type": "code",
   "execution_count": 1,
   "id": "2096dd96-03cf-41f0-9d6c-a80258d111cf",
   "metadata": {},
   "outputs": [],
   "source": [
    "# Python program to get average of a list"
   ]
  },
  {
   "cell_type": "code",
   "execution_count": 12,
   "id": "39d618f1-fef5-4493-a032-f6fb2951c87c",
   "metadata": {},
   "outputs": [
    {
     "name": "stdout",
     "output_type": "stream",
     "text": [
      "Average distance to nearest public library: 1.3364191177518465 miles.\n"
     ]
    }
   ],
   "source": [
    "def average(lst):\n",
    "    return sum(lst) / len(lst)\n",
    "avg_dist_to_library = average(haversine_distances)\n",
    "print(\"Average distance to nearest public library:\", avg_dist_to_library, \"miles.\")"
   ]
  }
 ],
 "metadata": {
  "kernelspec": {
   "display_name": "Python 3 (ipykernel)",
   "language": "python",
   "name": "python3"
  },
  "language_info": {
   "codemirror_mode": {
    "name": "ipython",
    "version": 3
   },
   "file_extension": ".py",
   "mimetype": "text/x-python",
   "name": "python",
   "nbconvert_exporter": "python",
   "pygments_lexer": "ipython3",
   "version": "3.10.8"
  }
 },
 "nbformat": 4,
 "nbformat_minor": 5
}
