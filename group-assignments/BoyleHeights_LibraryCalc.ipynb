{
 "cells": [
  {
   "cell_type": "code",
   "execution_count": 1,
   "id": "d82fdaa7-2e01-4cb2-8b45-3aebf5d12bc5",
   "metadata": {},
   "outputs": [],
   "source": [
    "import pandas as pd\n",
    "import geopandas as gpd"
   ]
  },
  {
   "cell_type": "code",
   "execution_count": 3,
   "id": "6e446c48-c7d0-4b7c-80fe-d430d9be9814",
   "metadata": {},
   "outputs": [],
   "source": [
    "tracts = gpd.read_file('Census_Tracts_2020.geojson')"
   ]
  },
  {
   "cell_type": "code",
   "execution_count": 4,
   "id": "771cfe33-9a81-4e4f-a3df-6dbc0ba13b15",
   "metadata": {},
   "outputs": [],
   "source": [
    "labels = [\n",
    "    '2037.10',\n",
    "    '2060.54',\n",
    "    '2060.53',\n",
    "    '2047.00',\n",
    "    '2046.00',\n",
    "    '2048.20',\n",
    "    '2048.10',\n",
    "    '2043.00',\n",
    "    '2042.00',\n",
    "    '2044.20',\n",
    "    '2044.10',\n",
    "    '2060.50',\n",
    "    '2049.20',\n",
    "    '2049.10',\n",
    "    '2051.20',\n",
    "    '2051.10',\n",
    "    '2032.00',\n",
    "    '2031.00',\n",
    "    '2035.00',\n",
    "    '2033.00',\n",
    "    '2039.00',\n",
    "    '2038.00',\n",
    "    '2041.20',\n",
    "    '2041.10',\n",
    "    '2036.02',\n",
    "    '2036.01',\n",
    "    '2037.20']"
   ]
  },
  {
   "cell_type": "code",
   "execution_count": 5,
   "id": "20235123-8f25-4728-9966-6c9b86bcfa86",
   "metadata": {},
   "outputs": [],
   "source": [
    "mask = tracts['LABEL'].isin(labels)\n",
    "BoyleHeights_tracts = tracts[mask]"
   ]
  },
  {
   "cell_type": "code",
   "execution_count": 6,
   "id": "7794fa8e-1b88-4a8b-b613-94d912188c9b",
   "metadata": {},
   "outputs": [
    {
     "name": "stderr",
     "output_type": "stream",
     "text": [
      "/tmp/ipykernel_143/1295469323.py:2: UserWarning: Geometry is in a geographic CRS. Results from 'centroid' are likely incorrect. Use 'GeoSeries.to_crs()' to re-project geometries to a projected CRS before this operation.\n",
      "\n",
      "  BoyleHeights_centroids[\"lon\"] = BoyleHeights_tracts.geometry.centroid.x\n",
      "/tmp/ipykernel_143/1295469323.py:3: UserWarning: Geometry is in a geographic CRS. Results from 'centroid' are likely incorrect. Use 'GeoSeries.to_crs()' to re-project geometries to a projected CRS before this operation.\n",
      "\n",
      "  BoyleHeights_centroids[\"lat\"] = BoyleHeights_tracts.geometry.centroid.y\n"
     ]
    }
   ],
   "source": [
    "BoyleHeights_centroids = pd.DataFrame()\n",
    "BoyleHeights_centroids[\"lon\"] = BoyleHeights_tracts.geometry.centroid.x\n",
    "BoyleHeights_centroids[\"lat\"] = BoyleHeights_tracts.geometry.centroid.y"
   ]
  },
  {
   "cell_type": "code",
   "execution_count": 7,
   "id": "55daa702-7de1-4ae3-b605-7a54cb9f8f55",
   "metadata": {},
   "outputs": [],
   "source": [
    "from math import radians, cos, sin, asin, sqrt\n",
    "\n",
    "def haversine(lon1, lat1, lon2, lat2):\n",
    "    lon1, lat1, lon2, lat2 = map(radians, [lon1, lat1, lon2, lat2])\n",
    "    dlon = lon2 - lon1\n",
    "    dlat = lat2 - lat1\n",
    "    a = sin(dlat/2)**2 + cos(lat1) * cos(lat2) * sin(dlon/2)**2\n",
    "    c = 2 * asin(sqrt(a))\n",
    "    r = 3956\n",
    "    return c * r"
   ]
  },
  {
   "cell_type": "code",
   "execution_count": 10,
   "id": "febd48a6-e95b-45c1-9207-aa4ba75c91e6",
   "metadata": {},
   "outputs": [],
   "source": [
    "#Robert Louis Stevenson Branch Library\n",
    "lon1 = -118.19824727446168\n",
    "lat1 = 34.02956978050325\n",
    "haversine_distances = []\n",
    "\n",
    "for i, j in BoyleHeights_centroids.iterrows():\n",
    "    coord = j \n",
    "    lon2 = coord['lon']\n",
    "    lat2 = coord['lat']\n",
    "    haversine_var = haversine(lon1, lat1, lon2, lat2)\n",
    "    haversine_distances.append(haversine_var)"
   ]
  },
  {
   "cell_type": "code",
   "execution_count": 11,
   "id": "39d618f1-fef5-4493-a032-f6fb2951c87c",
   "metadata": {},
   "outputs": [
    {
     "name": "stdout",
     "output_type": "stream",
     "text": [
      "Average distance to nearest public library: 1.2018403229117567 miles.\n"
     ]
    }
   ],
   "source": [
    "def average(lst):\n",
    "    return sum(lst) / len(lst)\n",
    "avg_dist_to_library = average(haversine_distances)\n",
    "print(\"Average distance to nearest public library:\", avg_dist_to_library, \"miles.\")"
   ]
  }
 ],
 "metadata": {
  "kernelspec": {
   "display_name": "Python 3 (ipykernel)",
   "language": "python",
   "name": "python3"
  },
  "language_info": {
   "codemirror_mode": {
    "name": "ipython",
    "version": 3
   },
   "file_extension": ".py",
   "mimetype": "text/x-python",
   "name": "python",
   "nbconvert_exporter": "python",
   "pygments_lexer": "ipython3",
   "version": "3.10.8"
  }
 },
 "nbformat": 4,
 "nbformat_minor": 5
}
